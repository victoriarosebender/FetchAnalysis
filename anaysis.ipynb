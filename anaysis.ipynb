{
 "cells": [
  {
   "cell_type": "code",
   "execution_count": null,
   "id": "306c3b1a",
   "metadata": {},
   "outputs": [
    {
     "name": "stdout",
     "output_type": "stream",
     "text": [
      "          cleanBarcode         CATEGORY_1              CATEGORY_2  \\\n",
      "0       100000000519.0             Snacks                 Cookies   \n",
      "1        10000000054.0             Snacks                 Cookies   \n",
      "2       100000002278.0             Snacks                   Candy   \n",
      "3         1000000168.0             Snacks                   Candy   \n",
      "4        10000003024.0             Snacks             Snack Cakes   \n",
      "...                ...                ...                     ...   \n",
      "783468   99999995046.0             Snacks             Snack Cakes   \n",
      "783469  999999986931.0  Health & Wellness             Bath & Body   \n",
      "783470  999999994011.0             Snacks      Jerky & Dried Meat   \n",
      "783471  999999999986.0  Health & Wellness             Bath & Body   \n",
      "783472  999999999993.0  Health & Wellness  Medicines & Treatments   \n",
      "\n",
      "                                 CATEGORY_3 CATEGORY_4  \\\n",
      "0                                      None       None   \n",
      "1                                      None       None   \n",
      "2                          Confection Candy       None   \n",
      "3                          Confection Candy       None   \n",
      "4                       Brownie Snack Cakes       None   \n",
      "...                                     ...        ...   \n",
      "783468             Pies & Tarts Snack Cakes       None   \n",
      "783469                       Hand Sanitizer       None   \n",
      "783470                        Jerky & Bites       None   \n",
      "783471                             Bar Soap       None   \n",
      "783472  Pain & Fever Medicines & Treatments       None   \n",
      "\n",
      "                    MANUFACTURER            BRAND       BARCODE  \n",
      "0                        STRAUSS            ELITE  1.000000e+11  \n",
      "1                        STRAUSS            ELITE  1.000000e+10  \n",
      "2       PLACEHOLDER MANUFACTURER  BRAND NOT KNOWN  1.000000e+11  \n",
      "3                           None             None  1.000000e+09  \n",
      "4                           None             None  1.000000e+10  \n",
      "...                          ...              ...           ...  \n",
      "783468                      None             None  1.000000e+11  \n",
      "783469                      None             None  1.000000e+12  \n",
      "783470  MONOGRAM MEAT SNACKS LLC       WILD BILLS  1.000000e+12  \n",
      "783471                      None             None  1.000000e+12  \n",
      "783472                   7ELEVEN          7ELEVEN  1.000000e+12  \n",
      "\n",
      "[783473 rows x 8 columns]\n"
     ]
    }
   ],
   "source": [
    "import pandas as pd\n",
    "import sqlite3\n",
    "\n",
    "# Load CSV files\n",
    "prods = pd.read_csv(\"PRODUCTS_TAKEHOME.csv\")\n",
    "trans = pd.read_csv(\"TRANSACTION_TAKEHOME.csv\")\n",
    "users = pd.read_csv(\"USER_TAKEHOME.csv\")\n",
    "\n",
    "\n",
    "\n",
    "# Set up in-memory SQLite DB\n",
    "conn = sqlite3.connect(\":memory:\")\n",
    "\n",
    "# Load DataFrames into SQLite tables\n",
    "prods.to_sql(\"products\", conn, index=False, if_exists=\"replace\")\n",
    "trans.to_sql(\"transactions\", conn, index=False, if_exists=\"replace\")\n",
    "users.to_sql(\"users\", conn, index=False, if_exists=\"replace\")\n",
    "\n",
    "# Data Validation\n",
    "\n",
    "\n",
    "query1 = \"\"\" SELECT CAST( barcode AS TEXT) AS cleanBarcode, COUNT(*) AS count\n",
    "FROM products\n",
    "GROUP BY CAST( barcode AS TEXT)\n",
    "HAVING count > 1 \"\"\"\n",
    "\n",
    "query = \"\"\" SELECT CAST( barcode AS TEXT) AS cleanBarcode, *\n",
    "FROM products\n",
    "WHERE CAST( barcode AS TEXT) IS NOT NULL\n",
    "GROUP BY *\n",
    "ORDER BY CAST( barcode AS TEXT)\"\"\"\n",
    "\n",
    "\n",
    "\n",
    "\n",
    "df = pd.read_sql_query(query, conn)\n",
    "print(df)\n"
   ]
  }
 ],
 "metadata": {
  "kernelspec": {
   "display_name": "Python 3",
   "language": "python",
   "name": "python3"
  },
  "language_info": {
   "codemirror_mode": {
    "name": "ipython",
    "version": 3
   },
   "file_extension": ".py",
   "mimetype": "text/x-python",
   "name": "python",
   "nbconvert_exporter": "python",
   "pygments_lexer": "ipython3",
   "version": "3.12.1"
  }
 },
 "nbformat": 4,
 "nbformat_minor": 5
}
