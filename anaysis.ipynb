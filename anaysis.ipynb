{
 "cells": [
  {
   "cell_type": "code",
   "execution_count": null,
   "id": "306c3b1a",
   "metadata": {},
   "outputs": [
    {
     "name": "stdout",
     "output_type": "stream",
     "text": [
      "Empty DataFrame\n",
      "Columns: [ID, COUNT(*)]\n",
      "Index: []\n"
     ]
    }
   ],
   "source": [
    "import pandas as pd\n",
    "import sqlite3\n",
    "\n",
    "# Load CSV files\n",
    "prods = pd.read_csv(\"PRODUCTS_TAKEHOME.csv\")\n",
    "trans = pd.read_csv(\"TRANSACTION_TAKEHOME.csv\")\n",
    "users = pd.read_csv(\"USER_TAKEHOME.csv\")\n",
    "\n",
    "\n",
    "\n",
    "# Set up in-memory SQLite DB\n",
    "conn = sqlite3.connect(\":memory:\")\n",
    "\n",
    "# Load DataFrames into SQLite tables\n",
    "prods.to_sql(\"products\", conn, index=False, if_exists=\"replace\")\n",
    "trans.to_sql(\"transactions\", conn, index=False, if_exists=\"replace\")\n",
    "users.to_sql(\"users\", conn, index=False, if_exists=\"replace\")\n",
    "\n",
    "# Cleaning PRODUCTS data, remove duplicates, remove nulls, change barcode data format from scientific notations to string\n",
    "\n",
    "conn.execute( \"\"\"CREATE TABLE products_cleaned AS \n",
    "SELECT CAST( barcode AS TEXT) AS cleanBarcode, CATEGORY_1, CATEGORY_2, CATEGORY_3, CATEGORY_4, BRAND\n",
    "FROM products\n",
    "WHERE BARCODE IS NOT NULL\n",
    "GROUP BY CATEGORY_1, CATEGORY_2, CATEGORY_3, CATEGORY_4, BRAND\"\"\") \n",
    "\n",
    "# Cleaning TRANSACTIONS data\n",
    "\n",
    "# Cleaning USERS data, remove duplicates, remove nulls, removed the timestamp since it isn't relevant for our exercise\n",
    "\n",
    "conn.execute( \"\"\"CREATE TABLE users_cleaned AS \n",
    "SELECT \n",
    "    ID, \n",
    "    DATE(REPLACE(CREATED_DATE, 'Z', '')) AS cleanedCreatedDate, \n",
    "    DATE(REPLACE(BIRTH_DATE, 'Z', '')) AS cleanedBirthDate, \n",
    "    STATE, LANGUAGE, GENDER\n",
    "FROM users\n",
    "WHERE ID IS NOT NULL\n",
    "GROUP BY ID, CAST( CREATED_DATE AS DATE), CAST(BIRTH_DATE AS DATE), STATE, LANGUAGE, GENDER\"\"\") \n",
    "\n",
    "conn.commit()\n",
    "\n",
    "## Here are a my queries. This is where I am testing the results of my new tables\n",
    "\n",
    "query1 = \"\"\" SELECT CATEGORY_1, CATEGORY_2, CATEGORY_3, CATEGORY_4\n",
    "FROM products_cleaned\n",
    "WHERE CATEGORY_2 like '%Dips & Salsa%'\n",
    "GROUP BY CATEGORY_1, CATEGORY_2, CATEGORY_3, CATEGORY_4\n",
    "ORDER BY CATEGORY_2\n",
    "LIMIT 100\n",
    "\"\"\"\n",
    "\n",
    "query = \"\"\" SELECT ID, COUNT(*)\n",
    "FROM users_cleaned\n",
    "GROUP BY ID\n",
    "HAVING COUNT(*) > 1\n",
    "LIMIT 100\n",
    "\"\"\"\n",
    "\n",
    "\n",
    "df = pd.read_sql_query(query, conn)\n",
    "print(df)\n"
   ]
  }
 ],
 "metadata": {
  "kernelspec": {
   "display_name": "Python 3",
   "language": "python",
   "name": "python3"
  },
  "language_info": {
   "codemirror_mode": {
    "name": "ipython",
    "version": 3
   },
   "file_extension": ".py",
   "mimetype": "text/x-python",
   "name": "python",
   "nbconvert_exporter": "python",
   "pygments_lexer": "ipython3",
   "version": "3.12.1"
  }
 },
 "nbformat": 4,
 "nbformat_minor": 5
}
