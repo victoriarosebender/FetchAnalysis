{
 "cells": [
  {
   "cell_type": "code",
   "execution_count": 1,
   "id": "0882f6d2",
   "metadata": {},
   "outputs": [
    {
     "ename": "ModuleNotFoundError",
     "evalue": "No module named 'duckdb'",
     "output_type": "error",
     "traceback": [
      "\u001b[31m---------------------------------------------------------------------------\u001b[39m",
      "\u001b[31mModuleNotFoundError\u001b[39m                       Traceback (most recent call last)",
      "\u001b[36mCell\u001b[39m\u001b[36m \u001b[39m\u001b[32mIn[1]\u001b[39m\u001b[32m, line 2\u001b[39m\n\u001b[32m      1\u001b[39m \u001b[38;5;28;01mimport\u001b[39;00m\u001b[38;5;250m \u001b[39m\u001b[34;01mpandas\u001b[39;00m\u001b[38;5;250m \u001b[39m\u001b[38;5;28;01mas\u001b[39;00m\u001b[38;5;250m \u001b[39m\u001b[34;01mpd\u001b[39;00m\n\u001b[32m----> \u001b[39m\u001b[32m2\u001b[39m \u001b[38;5;28;01mimport\u001b[39;00m\u001b[38;5;250m \u001b[39m\u001b[34;01mduckdb\u001b[39;00m\n\u001b[32m      4\u001b[39m \u001b[38;5;66;03m# Load CSV files into DataFrames\u001b[39;00m\n\u001b[32m      5\u001b[39m prods = pd.read_csv(\u001b[33m\"\u001b[39m\u001b[33mPRODUCTS_TAKEHOME.csv\u001b[39m\u001b[33m\"\u001b[39m, dtype={\u001b[33m\"\u001b[39m\u001b[33mbarcode\u001b[39m\u001b[33m\"\u001b[39m: \u001b[38;5;28mstr\u001b[39m})\n",
      "\u001b[31mModuleNotFoundError\u001b[39m: No module named 'duckdb'"
     ]
    }
   ],
   "source": [
    "import pandas as pd\n",
    "import duckdb\n",
    "\n",
    "# Load CSV files into DataFrames\n",
    "prods = pd.read_csv(\"PRODUCTS_TAKEHOME.csv\", dtype={\"barcode\": str})\n",
    "trans = pd.read_csv(\"TRANSACTION_TAKEHOME.csv\", dtype={\"barcode\": str})\n",
    "users = pd.read_csv(\"USER_TAKEHOME.csv\")\n",
    "\n",
    "# Set up DuckDB in-memory connection\n",
    "con = duckdb.connect(database=':memory:')\n",
    "\n",
    "# Register the DataFrames as DuckDB tables\n",
    "con.register(\"products_df\", prods)\n",
    "con.register(\"transactions_df\", trans)\n",
    "con.register(\"users_df\", users)\n",
    "\n",
    "# Create DuckDB tables from the registered DataFrames\n",
    "con.execute(\"CREATE TABLE products AS SELECT * FROM products_df\")\n",
    "con.execute(\"CREATE TABLE transactions AS SELECT * FROM transactions_df\")\n",
    "con.execute(\"CREATE TABLE users AS SELECT * FROM users_df\")\n",
    "\n",
    "# Example Data Validation Query\n",
    "# Check for NULL or 'None' values in barcode\n",
    "df_barcode_check = con.execute(\"\"\"\n",
    "    SELECT *\n",
    "    FROM products\n",
    "    WHERE barcode IS NULL OR barcode = 'None'\n",
    "\"\"\").fetchdf()\n",
    "\n",
    "print(df_barcode_check)\n"
   ]
  }
 ],
 "metadata": {
  "kernelspec": {
   "display_name": "Python 3",
   "language": "python",
   "name": "python3"
  },
  "language_info": {
   "codemirror_mode": {
    "name": "ipython",
    "version": 3
   },
   "file_extension": ".py",
   "mimetype": "text/x-python",
   "name": "python",
   "nbconvert_exporter": "python",
   "pygments_lexer": "ipython3",
   "version": "3.12.1"
  }
 },
 "nbformat": 4,
 "nbformat_minor": 5
}
