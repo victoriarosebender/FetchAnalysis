{
 "cells": [
  {
   "cell_type": "code",
   "execution_count": 32,
   "id": "306c3b1a",
   "metadata": {},
   "outputs": [
    {
     "name": "stdout",
     "output_type": "stream",
     "text": [
      "Empty DataFrame\n",
      "Columns: [cleanBarcode, count]\n",
      "Index: []\n"
     ]
    }
   ],
   "source": [
    "import pandas as pd\n",
    "import sqlite3\n",
    "\n",
    "# Load CSV files\n",
    "prods = pd.read_csv(\"PRODUCTS_TAKEHOME.csv\")\n",
    "trans = pd.read_csv(\"TRANSACTION_TAKEHOME.csv\")\n",
    "users = pd.read_csv(\"USER_TAKEHOME.csv\")\n",
    "\n",
    "\n",
    "\n",
    "# Set up in-memory SQLite DB\n",
    "conn = sqlite3.connect(\":memory:\")\n",
    "\n",
    "# Load DataFrames into SQLite tables\n",
    "prods.to_sql(\"products\", conn, index=False, if_exists=\"replace\")\n",
    "trans.to_sql(\"transactions\", conn, index=False, if_exists=\"replace\")\n",
    "users.to_sql(\"users\", conn, index=False, if_exists=\"replace\")\n",
    "\n",
    "# Cleaning product data\n",
    "\n",
    "conn.execute( \"\"\"CREATE TABLE products_cleaned AS \n",
    "SELECT CAST( barcode AS TEXT) AS cleanBarcode, CATEGORY_1, CATEGORY_2, CATEGORY_3, CATEGORY_4, BRAND\n",
    "FROM products\n",
    "WHERE BARCODE IS NOT NULL\n",
    "GROUP BY CATEGORY_1, CATEGORY_2, CATEGORY_3, CATEGORY_4, BRAND\"\"\") \n",
    "\n",
    "conn.commit()\n",
    "\n",
    "query = \"\"\" SELECT cleanBarcode, COUNT(*) AS count\n",
    "FROM products_cleaned\n",
    "GROUP BY cleanBarcode\n",
    "HAVING count > 1 \"\"\"\n",
    "\n",
    "\n",
    "df = pd.read_sql_query(query, conn)\n",
    "print(df)\n"
   ]
  }
 ],
 "metadata": {
  "kernelspec": {
   "display_name": "Python 3",
   "language": "python",
   "name": "python3"
  },
  "language_info": {
   "codemirror_mode": {
    "name": "ipython",
    "version": 3
   },
   "file_extension": ".py",
   "mimetype": "text/x-python",
   "name": "python",
   "nbconvert_exporter": "python",
   "pygments_lexer": "ipython3",
   "version": "3.12.1"
  }
 },
 "nbformat": 4,
 "nbformat_minor": 5
}
