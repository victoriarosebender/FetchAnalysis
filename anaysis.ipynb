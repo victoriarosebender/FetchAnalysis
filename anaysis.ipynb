{
 "cells": [
  {
   "cell_type": "code",
   "execution_count": 50,
   "id": "306c3b1a",
   "metadata": {},
   "outputs": [
    {
     "name": "stdout",
     "output_type": "stream",
     "text": [
      "   CATEGORY_1    CATEGORY_2        CATEGORY_3 CATEGORY_4\n",
      "0      Snacks  Dips & Salsa              None       None\n",
      "1      Snacks  Dips & Salsa          Bean Dip       None\n",
      "2      Snacks  Dips & Salsa        Cheese Dip       None\n",
      "3      Snacks  Dips & Salsa      Dessert Dips       None\n",
      "4      Snacks  Dips & Salsa         Dip Mixes       None\n",
      "5      Snacks  Dips & Salsa  French Onion Dip       None\n",
      "6      Snacks  Dips & Salsa         Guacamole       None\n",
      "7      Snacks  Dips & Salsa            Hummus       None\n",
      "8      Snacks  Dips & Salsa        Other Dips       None\n",
      "9      Snacks  Dips & Salsa         Ranch Dip       None\n",
      "10     Snacks  Dips & Salsa             Salsa       None\n"
     ]
    }
   ],
   "source": [
    "import pandas as pd\n",
    "import sqlite3\n",
    "\n",
    "# Load CSV files\n",
    "prods = pd.read_csv(\"PRODUCTS_TAKEHOME.csv\")\n",
    "trans = pd.read_csv(\"TRANSACTION_TAKEHOME.csv\")\n",
    "users = pd.read_csv(\"USER_TAKEHOME.csv\")\n",
    "\n",
    "\n",
    "\n",
    "# Set up in-memory SQLite DB\n",
    "conn = sqlite3.connect(\":memory:\")\n",
    "\n",
    "# Load DataFrames into SQLite tables\n",
    "prods.to_sql(\"products\", conn, index=False, if_exists=\"replace\")\n",
    "trans.to_sql(\"transactions\", conn, index=False, if_exists=\"replace\")\n",
    "users.to_sql(\"users\", conn, index=False, if_exists=\"replace\")\n",
    "\n",
    "# Cleaning product data\n",
    "\n",
    "conn.execute( \"\"\"CREATE TABLE products_cleaned AS \n",
    "SELECT CAST( barcode AS TEXT) AS cleanBarcode, CATEGORY_1, CATEGORY_2, CATEGORY_3, CATEGORY_4, BRAND\n",
    "FROM products\n",
    "WHERE BARCODE IS NOT NULL\n",
    "GROUP BY CATEGORY_1, CATEGORY_2, CATEGORY_3, CATEGORY_4, BRAND\"\"\") \n",
    "\n",
    "conn.commit()\n",
    "\n",
    "query = \"\"\" SELECT CATEGORY_1, CATEGORY_2, CATEGORY_3, CATEGORY_4\n",
    "FROM products_cleaned\n",
    "WHERE CATEGORY_2 like '%Dips & Salsa%'\n",
    "GROUP BY CATEGORY_1, CATEGORY_2, CATEGORY_3, CATEGORY_4\n",
    "ORDER BY CATEGORY_2\n",
    "LIMIT 100\n",
    "\"\"\"\n",
    "\n",
    "\n",
    "df = pd.read_sql_query(query, conn)\n",
    "print(df)\n"
   ]
  }
 ],
 "metadata": {
  "kernelspec": {
   "display_name": "Python 3",
   "language": "python",
   "name": "python3"
  },
  "language_info": {
   "codemirror_mode": {
    "name": "ipython",
    "version": 3
   },
   "file_extension": ".py",
   "mimetype": "text/x-python",
   "name": "python",
   "nbconvert_exporter": "python",
   "pygments_lexer": "ipython3",
   "version": "3.12.1"
  }
 },
 "nbformat": 4,
 "nbformat_minor": 5
}
